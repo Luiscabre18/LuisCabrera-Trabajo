{
  "nbformat": 4,
  "nbformat_minor": 0,
  "metadata": {
    "colab": {
      "provenance": []
    },
    "kernelspec": {
      "name": "python3",
      "display_name": "Python 3"
    },
    "language_info": {
      "name": "python"
    }
  },
  "cells": [
    {
      "cell_type": "markdown",
      "source": [
        "Taller Aplicado de Pivot Tables, Tablas de Contingencia y Melts"
      ],
      "metadata": {
        "id": "c4zeZQFnr2oV"
      }
    },
    {
      "cell_type": "code",
      "execution_count": null,
      "metadata": {
        "id": "LWCmQwhkpA0P",
        "outputId": "a68fa6f1-e2a5-4b32-9380-3ec1fa9703df",
        "colab": {
          "base_uri": "https://localhost:8080/"
        }
      },
      "outputs": [
        {
          "metadata": {
            "tags": null
          },
          "name": "stdout",
          "output_type": "stream",
          "text": [
            "--2024-10-07 01:00:42--  https://github.com/javierherrera1996/lecture_analytics/raw/refs/heads/main/time_series.zip\n",
            "Resolving github.com (github.com)... 140.82.113.4\n",
            "Connecting to github.com (github.com)|140.82.113.4|:443... connected.\n",
            "HTTP request sent, awaiting response... 302 Found\n",
            "Location: https://raw.githubusercontent.com/javierherrera1996/lecture_analytics/refs/heads/main/time_series.zip [following]\n",
            "--2024-10-07 01:00:42--  https://raw.githubusercontent.com/javierherrera1996/lecture_analytics/refs/heads/main/time_series.zip\n",
            "Resolving raw.githubusercontent.com (raw.githubusercontent.com)... 185.199.108.133, 185.199.109.133, 185.199.110.133, ...\n",
            "Connecting to raw.githubusercontent.com (raw.githubusercontent.com)|185.199.108.133|:443... connected.\n",
            "HTTP request sent, awaiting response... 200 OK\n",
            "Length: 15602616 (15M) [application/zip]\n",
            "Saving to: ‘time_series.zip.3’\n",
            "\n",
            "time_series.zip.3   100%[===================>]  14.88M  --.-KB/s    in 0.1s    \n",
            "\n",
            "2024-10-07 01:00:42 (129 MB/s) - ‘time_series.zip.3’ saved [15602616/15602616]\n",
            "\n",
            "Archive:  time_series.zip\n",
            "replace time_series/fundamentals.csv? [y]es, [n]o, [A]ll, [N]one, [r]ename: "
          ]
        }
      ],
      "source": [
        "!wget https://github.com/javierherrera1996/lecture_analytics/raw/refs/heads/main/time_series.zip\n",
        "!unzip time_series.zip\n",
        "!cp -r time_series/* ./"
      ]
    },
    {
      "cell_type": "markdown",
      "source": [
        "Contexto del Taller\n",
        "Tienes datos históricos de precios y volumen de transacciones de acciones de una empresa (AAPL). El objetivo es utilizar herramientas como pivot tables, tablas de contingencia y melts en Python para realizar un análisis exploratorio que pueda influir en decisiones de inversión o identificar tendencias.\n",
        "\n",
        "Preguntas de Pivot Tables (Enfocadas a Negocio)\n",
        "Calcula el volumen promedio de transacciones por mes para la acción AAPL.\n",
        "\n",
        "Contexto de negocio: El volumen mensual te ayuda a entender la liquidez de la acción y detectar patrones de alta actividad.\n"
      ],
      "metadata": {
        "id": "wSqt9pHNr6NB"
      }
    },
    {
      "cell_type": "code",
      "source": [
        "import pandas as pd\n",
        "data = pd.read_csv('prices.csv')\n",
        "data.head()"
      ],
      "metadata": {
        "id": "JqXg1bPisAzP"
      },
      "execution_count": null,
      "outputs": []
    },
    {
      "cell_type": "markdown",
      "source": [
        "Calcula el precio promedio de apertura y cierre por día de la semana.\n",
        "\n",
        "Contexto de negocio: Esto puede ayudar a identificar si hay días de la semana en los que la acción tiende a abrir o cerrar con precios más altos."
      ],
      "metadata": {
        "id": "NObhi-Rqr-X9"
      }
    },
    {
      "cell_type": "code",
      "source": [
        "\n",
        "import pandas as pd\n",
        "\n",
        "data['Date'] = pd.to_datetime(data['Date'])\n",
        "\n",
        "data['Day of Week'] = data['Date'].dt.dayofweek\n",
        "\n",
        "average_prices_by_day = data.groupby('Day of Week').agg({'Open': 'mean', 'Close': 'mean'})\n",
        "\n",
        "print(average_prices_by_day)\n"
      ],
      "metadata": {
        "id": "oLK1kDuDsBUt"
      },
      "execution_count": null,
      "outputs": []
    },
    {
      "cell_type": "markdown",
      "source": [
        "Calcula el volumen total de transacciones por día de la semana y compara la actividad entre días.\n",
        "\n",
        "Contexto de negocio: Saber qué días tienen mayor actividad puede ayudarte a decidir cuándo realizar compras o ventas estratégicas."
      ],
      "metadata": {
        "id": "EuiXaaDHrBzj"
      }
    },
    {
      "cell_type": "code",
      "source": [
        "\n",
        "import pandas as pd\n",
        "\n",
        "data['date'] = pd.to_datetime(data['date'])\n",
        "\n",
        "# Extract day of the week (Monday=0, Sunday=6)\n",
        "data['day_of_week'] = data['date'].dt.dayofweek\n",
        "\n",
        "volume_by_day = data.groupby('day_of_week')['volume'].sum()\n",
        "\n",
        "print(volume_by_day)\n",
        "\n",
        "\n",
        "day_with_highest_volume = volume_by_day.idxmax()\n",
        "print(f\"Day with highest volume: {day_with_highest_volume}\")\n"
      ],
      "metadata": {
        "id": "nEIaJw5cq2DD",
        "outputId": "833a6898-78d9-424b-fc13-5ff6d32d3c0e",
        "colab": {
          "base_uri": "https://localhost:8080/"
        }
      },
      "execution_count": null,
      "outputs": [
        {
          "output_type": "stream",
          "name": "stdout",
          "text": [
            "day_of_week\n",
            "0.0    512724700.0\n",
            "1.0    630973200.0\n",
            "2.0    620850100.0\n",
            "3.0    609506900.0\n",
            "4.0    646359800.0\n",
            "Name: volume, dtype: float64\n",
            "Day with highest volume: 4.0\n"
          ]
        }
      ]
    },
    {
      "cell_type": "markdown",
      "source": [
        "Calcula los precios máximos y mínimos de apertura por mes.\n",
        "\n",
        "Contexto de negocio: Esto te permitirá evaluar la volatilidad mensual de la acción."
      ],
      "metadata": {
        "id": "F7JD1MvdryJA"
      }
    },
    {
      "cell_type": "code",
      "source": [
        "data['date'] =pd.to_datetime(data['date'], format=\"%Y-%m-%d\", errors=\"coerce\")\n",
        "data['year'] = data['date'].dt.year\n",
        "data['month'] = data['date'].dt.month\n",
        "print(data.head())"
      ],
      "metadata": {
        "id": "J3dkmfeqFtze",
        "outputId": "3174724e-912f-4f63-d7fc-fc2e5f868f87",
        "colab": {
          "base_uri": "https://localhost:8080/"
        }
      },
      "execution_count": null,
      "outputs": [
        {
          "output_type": "stream",
          "name": "stdout",
          "text": [
            "        date symbol        open       close         low        high  \\\n",
            "0 2016-01-05   WLTW  123.430000  125.839996  122.309998  126.250000   \n",
            "1 2016-01-06   WLTW  125.239998  119.980003  119.940002  125.540001   \n",
            "2 2016-01-07   WLTW  116.379997  114.949997  114.930000  119.739998   \n",
            "3 2016-01-08   WLTW  115.480003  116.620003  113.500000  117.440002   \n",
            "4 2016-01-11   WLTW  117.010002  114.970001  114.089996  117.330002   \n",
            "\n",
            "      volume    Month  day_of_week    year  month  \n",
            "0  2163600.0  2016-01          1.0  2016.0    1.0  \n",
            "1  2386400.0  2016-01          2.0  2016.0    1.0  \n",
            "2  2489500.0  2016-01          3.0  2016.0    1.0  \n",
            "3  2006300.0  2016-01          4.0  2016.0    1.0  \n",
            "4  1408600.0  2016-01          0.0  2016.0    1.0  \n"
          ]
        }
      ]
    },
    {
      "cell_type": "code",
      "source": [
        "\n",
        "import pandas as pd\n",
        "\n",
        "price_range_by_month = data.groupby(['year', 'month'])['open'].agg(['max', 'min'])\n",
        "\n",
        "print(price_range_by_month)\n"
      ],
      "metadata": {
        "id": "c1Ng-nudZ7HF",
        "outputId": "1788509e-4bf9-4c8b-95bf-9c802ed6b159",
        "colab": {
          "base_uri": "https://localhost:8080/"
        }
      },
      "execution_count": null,
      "outputs": [
        {
          "output_type": "stream",
          "name": "stdout",
          "text": [
            "                     max        min\n",
            "year   month                       \n",
            "2010.0 1.0     17.100000  15.380000\n",
            "       2.0     16.799999  15.380000\n",
            "       3.0     18.799999  16.760000\n",
            "       4.0     22.100000  18.620001\n",
            "       5.0     23.330000  18.410000\n",
            "...                  ...        ...\n",
            "2016.0 8.0    124.180000  43.759998\n",
            "       9.0    129.169998  43.490002\n",
            "       10.0   132.449997  41.939999\n",
            "       11.0   126.519997  40.009998\n",
            "       12.0   126.449997  41.599998\n",
            "\n",
            "[84 rows x 2 columns]\n"
          ]
        }
      ]
    },
    {
      "cell_type": "markdown",
      "source": [
        "Calcula el volumen promedio por mes y acción (suponiendo que tienes datos de múltiples acciones).\n",
        "\n",
        "Contexto de negocio: Esta información te ayuda a comparar la liquidez de diferentes acciones a lo largo del tiempo.\n"
      ],
      "metadata": {
        "id": "Kd2KertnFuEY"
      }
    },
    {
      "cell_type": "code",
      "source": [
        "\n",
        "import pandas as pd\n",
        "\n",
        "average_volume_by_month_symbol = data.groupby(['Month', 'symbol'])['volume'].mean()\n",
        "\n",
        "print(average_volume_by_month_symbol)\n"
      ],
      "metadata": {
        "id": "YoPUqDkiFwuM",
        "outputId": "b765f207-32ce-4cf6-85d6-a09aa870a657",
        "colab": {
          "base_uri": "https://localhost:8080/"
        }
      },
      "execution_count": null,
      "outputs": [
        {
          "output_type": "stream",
          "name": "stdout",
          "text": [
            "Month    symbol\n",
            "2010-01  AIV       2.435384e+06\n",
            "2010-02  AIV       2.366379e+06\n",
            "2010-03  AIV       1.896691e+06\n",
            "2010-04  AIV       2.411843e+06\n",
            "2010-05  AIV       3.047175e+06\n",
            "                       ...     \n",
            "2016-11  FTV       1.495057e+06\n",
            "         WLTW      8.967857e+05\n",
            "2016-12  AIV       1.305529e+06\n",
            "         FTV       1.588829e+06\n",
            "         WLTW      7.636000e+05\n",
            "Name: volume, Length: 102, dtype: float64\n"
          ]
        }
      ]
    },
    {
      "cell_type": "markdown",
      "source": [
        "Calcula el precio de cierre promedio de la acción AAPL por mes, y agrega una columna con el total de transacciones en cada mes.\n",
        "\n",
        "Contexto de negocio: Esto te permite comparar el comportamiento de los precios con el volumen de transacciones, para entender si hay algún patrón de venta o compra en función del precio."
      ],
      "metadata": {
        "id": "Bi9wyS9lFw-S"
      }
    },
    {
      "cell_type": "markdown",
      "source": [
        "# **En la base de datos no se encontro la acción **AAPL****"
      ],
      "metadata": {
        "id": "OlcL4Fy2gcWM"
      }
    },
    {
      "cell_type": "code",
      "source": [
        "average_close_by_month_symbol = data.groupby(['Month', 'symbol'])['close'].mean()\n",
        "average_close_by_month_symbol"
      ],
      "metadata": {
        "id": "WmIA6d3Kak69",
        "outputId": "994ac299-afaa-4814-dd06-e06a244259ff",
        "colab": {
          "base_uri": "https://localhost:8080/",
          "height": 1000
        }
      },
      "execution_count": null,
      "outputs": [
        {
          "output_type": "execute_result",
          "data": {
            "text/plain": [
              "Month  symbol\n",
              "1.0    AIV        28.229143\n",
              "       WLTW      113.787778\n",
              "2.0    AIV        28.538444\n",
              "       WLTW      111.625999\n",
              "3.0    AIV        29.446013\n",
              "       WLTW      118.969545\n",
              "4.0    AIV        30.493904\n",
              "       WLTW      119.626191\n",
              "5.0    AIV        31.104626\n",
              "       WLTW      125.375239\n",
              "6.0    AIV        30.524667\n",
              "       WLTW      125.118637\n",
              "7.0    AIV        31.919797\n",
              "       FTV        49.803158\n",
              "       WLTW      124.521500\n",
              "8.0    AIV        31.084258\n",
              "       FTV        51.426956\n",
              "       WLTW      122.533043\n",
              "9.0    AIV        31.037361\n",
              "       FTV        51.298096\n",
              "       WLTW      126.582856\n",
              "10.0   AIV        31.026645\n",
              "       FTV        49.433809\n",
              "       WLTW      128.565238\n",
              "11.0   AIV        30.497622\n",
              "       FTV        53.701905\n",
              "       WLTW      122.646667\n",
              "12.0   AIV        31.302282\n",
              "       FTV        54.229047\n",
              "       WLTW      122.841904\n",
              "Name: close, dtype: float64"
            ],
            "text/html": [
              "<div>\n",
              "<style scoped>\n",
              "    .dataframe tbody tr th:only-of-type {\n",
              "        vertical-align: middle;\n",
              "    }\n",
              "\n",
              "    .dataframe tbody tr th {\n",
              "        vertical-align: top;\n",
              "    }\n",
              "\n",
              "    .dataframe thead th {\n",
              "        text-align: right;\n",
              "    }\n",
              "</style>\n",
              "<table border=\"1\" class=\"dataframe\">\n",
              "  <thead>\n",
              "    <tr style=\"text-align: right;\">\n",
              "      <th></th>\n",
              "      <th></th>\n",
              "      <th>close</th>\n",
              "    </tr>\n",
              "    <tr>\n",
              "      <th>Month</th>\n",
              "      <th>symbol</th>\n",
              "      <th></th>\n",
              "    </tr>\n",
              "  </thead>\n",
              "  <tbody>\n",
              "    <tr>\n",
              "      <th rowspan=\"2\" valign=\"top\">1.0</th>\n",
              "      <th>AIV</th>\n",
              "      <td>28.229143</td>\n",
              "    </tr>\n",
              "    <tr>\n",
              "      <th>WLTW</th>\n",
              "      <td>113.787778</td>\n",
              "    </tr>\n",
              "    <tr>\n",
              "      <th rowspan=\"2\" valign=\"top\">2.0</th>\n",
              "      <th>AIV</th>\n",
              "      <td>28.538444</td>\n",
              "    </tr>\n",
              "    <tr>\n",
              "      <th>WLTW</th>\n",
              "      <td>111.625999</td>\n",
              "    </tr>\n",
              "    <tr>\n",
              "      <th rowspan=\"2\" valign=\"top\">3.0</th>\n",
              "      <th>AIV</th>\n",
              "      <td>29.446013</td>\n",
              "    </tr>\n",
              "    <tr>\n",
              "      <th>WLTW</th>\n",
              "      <td>118.969545</td>\n",
              "    </tr>\n",
              "    <tr>\n",
              "      <th rowspan=\"2\" valign=\"top\">4.0</th>\n",
              "      <th>AIV</th>\n",
              "      <td>30.493904</td>\n",
              "    </tr>\n",
              "    <tr>\n",
              "      <th>WLTW</th>\n",
              "      <td>119.626191</td>\n",
              "    </tr>\n",
              "    <tr>\n",
              "      <th rowspan=\"2\" valign=\"top\">5.0</th>\n",
              "      <th>AIV</th>\n",
              "      <td>31.104626</td>\n",
              "    </tr>\n",
              "    <tr>\n",
              "      <th>WLTW</th>\n",
              "      <td>125.375239</td>\n",
              "    </tr>\n",
              "    <tr>\n",
              "      <th rowspan=\"2\" valign=\"top\">6.0</th>\n",
              "      <th>AIV</th>\n",
              "      <td>30.524667</td>\n",
              "    </tr>\n",
              "    <tr>\n",
              "      <th>WLTW</th>\n",
              "      <td>125.118637</td>\n",
              "    </tr>\n",
              "    <tr>\n",
              "      <th rowspan=\"3\" valign=\"top\">7.0</th>\n",
              "      <th>AIV</th>\n",
              "      <td>31.919797</td>\n",
              "    </tr>\n",
              "    <tr>\n",
              "      <th>FTV</th>\n",
              "      <td>49.803158</td>\n",
              "    </tr>\n",
              "    <tr>\n",
              "      <th>WLTW</th>\n",
              "      <td>124.521500</td>\n",
              "    </tr>\n",
              "    <tr>\n",
              "      <th rowspan=\"3\" valign=\"top\">8.0</th>\n",
              "      <th>AIV</th>\n",
              "      <td>31.084258</td>\n",
              "    </tr>\n",
              "    <tr>\n",
              "      <th>FTV</th>\n",
              "      <td>51.426956</td>\n",
              "    </tr>\n",
              "    <tr>\n",
              "      <th>WLTW</th>\n",
              "      <td>122.533043</td>\n",
              "    </tr>\n",
              "    <tr>\n",
              "      <th rowspan=\"3\" valign=\"top\">9.0</th>\n",
              "      <th>AIV</th>\n",
              "      <td>31.037361</td>\n",
              "    </tr>\n",
              "    <tr>\n",
              "      <th>FTV</th>\n",
              "      <td>51.298096</td>\n",
              "    </tr>\n",
              "    <tr>\n",
              "      <th>WLTW</th>\n",
              "      <td>126.582856</td>\n",
              "    </tr>\n",
              "    <tr>\n",
              "      <th rowspan=\"3\" valign=\"top\">10.0</th>\n",
              "      <th>AIV</th>\n",
              "      <td>31.026645</td>\n",
              "    </tr>\n",
              "    <tr>\n",
              "      <th>FTV</th>\n",
              "      <td>49.433809</td>\n",
              "    </tr>\n",
              "    <tr>\n",
              "      <th>WLTW</th>\n",
              "      <td>128.565238</td>\n",
              "    </tr>\n",
              "    <tr>\n",
              "      <th rowspan=\"3\" valign=\"top\">11.0</th>\n",
              "      <th>AIV</th>\n",
              "      <td>30.497622</td>\n",
              "    </tr>\n",
              "    <tr>\n",
              "      <th>FTV</th>\n",
              "      <td>53.701905</td>\n",
              "    </tr>\n",
              "    <tr>\n",
              "      <th>WLTW</th>\n",
              "      <td>122.646667</td>\n",
              "    </tr>\n",
              "    <tr>\n",
              "      <th rowspan=\"3\" valign=\"top\">12.0</th>\n",
              "      <th>AIV</th>\n",
              "      <td>31.302282</td>\n",
              "    </tr>\n",
              "    <tr>\n",
              "      <th>FTV</th>\n",
              "      <td>54.229047</td>\n",
              "    </tr>\n",
              "    <tr>\n",
              "      <th>WLTW</th>\n",
              "      <td>122.841904</td>\n",
              "    </tr>\n",
              "  </tbody>\n",
              "</table>\n",
              "</div><br><label><b>dtype:</b> float64</label>"
            ]
          },
          "metadata": {},
          "execution_count": 50
        }
      ]
    },
    {
      "cell_type": "markdown",
      "source": [
        "Preguntas de Tablas de Contingencia (Aplicadas a Negocios)\n",
        "Crea una tabla de contingencia para contar cuántos días el precio de apertura fue mayor o igual a $155 y cuántos días fue menor a $155.\n",
        "\n",
        "Contexto de negocio: Esto te ayuda a entender cómo se distribuyen los precios de apertura alrededor de un umbral crítico de $155."
      ],
      "metadata": {
        "id": "pUuT9YI3F1Dj"
      }
    },
    {
      "cell_type": "code",
      "source": [
        "\n",
        "import pandas as pd\n",
        "\n",
        "data['open_above_155'] = data['open'] >= 155\n",
        "\n",
        "contingency_table = pd.pivot_table(data, values='open', index='open_above_155', aggfunc='count')\n",
        "\n",
        "print(contingency_table)\n"
      ],
      "metadata": {
        "id": "1_S_Cag6ay8V",
        "colab": {
          "base_uri": "https://localhost:8080/"
        },
        "outputId": "ae9d3718-a5cf-4824-ff5a-ee91c1d4cc1e"
      },
      "execution_count": null,
      "outputs": [
        {
          "output_type": "stream",
          "name": "stdout",
          "text": [
            "                  open\n",
            "open_above_155        \n",
            "False           800961\n",
            "True             50303\n"
          ]
        }
      ]
    },
    {
      "cell_type": "markdown",
      "source": [
        "Genera una tabla de contingencia para contar cuántos días el volumen de transacciones fue mayor o igual a 75 millones y cuántos días fue menor.\n",
        "\n",
        "Contexto de negocio: Identificar días de alto volumen de transacciones es clave para entender cuándo hubo más interés en la compra/venta de la acción."
      ],
      "metadata": {
        "id": "3lLqxPVvF7IC"
      }
    },
    {
      "cell_type": "code",
      "source": [
        "\n",
        "import pandas as pd\n",
        "\n",
        "\n",
        "data['high_volume'] = data['volume'] >= 75000000\n",
        "\n",
        "contingency_table = pd.crosstab(index=data['high_volume'], columns='Count')\n",
        "\n",
        "print(contingency_table)\n"
      ],
      "metadata": {
        "id": "9asT7zPKF9sJ",
        "colab": {
          "base_uri": "https://localhost:8080/"
        },
        "outputId": "bd2badc0-e9b5-4c53-c4e6-a687cd206ad8"
      },
      "execution_count": null,
      "outputs": [
        {
          "output_type": "stream",
          "name": "stdout",
          "text": [
            "col_0         Count\n",
            "high_volume        \n",
            "False        847171\n",
            "True           4093\n"
          ]
        }
      ]
    },
    {
      "cell_type": "markdown",
      "source": [
        "Crea una tabla de contingencia que muestre cuántos días el precio de cierre fue mayor o igual al precio de apertura, y cuántos días fue menor.\n",
        "\n",
        "Contexto de negocio: Saber en cuántos días la acción cerró por encima o por debajo del precio de apertura puede darte una idea general del rendimiento de la acción."
      ],
      "metadata": {
        "id": "Fl5U-mJIF9-E"
      }
    },
    {
      "cell_type": "code",
      "source": [
        "\n",
        "import pandas as pd\n",
        "import numpy as np\n",
        "\n",
        "\n",
        "data['close_above_open'] = np.where(data['close'] >= data['open'], 'Mayor o igual a open', 'Menor a open')\n",
        "\n",
        "contingency_table_close_open = pd.crosstab(index=data['close_above_open'], columns='Count')\n",
        "\n",
        "print(contingency_table_close_open)\n"
      ],
      "metadata": {
        "id": "wWgJrNSlGAV5",
        "colab": {
          "base_uri": "https://localhost:8080/"
        },
        "outputId": "9db3bb6d-201f-4cff-b6e6-a33b73ab646e"
      },
      "execution_count": null,
      "outputs": [
        {
          "output_type": "stream",
          "name": "stdout",
          "text": [
            "col_0                  Count\n",
            "close_above_open            \n",
            "Mayor o igual a open  444764\n",
            "Menor a open          406500\n"
          ]
        }
      ]
    },
    {
      "cell_type": "markdown",
      "source": [
        "Añade márgenes (totales) a la tabla de contingencia anterior para conocer el total de días con subidas y bajadas de precio.\n",
        "\n",
        "Contexto de negocio: Analizar cuántos días en general la acción tuvo subidas o bajadas te da un panorama más amplio del comportamiento de la acción."
      ],
      "metadata": {
        "id": "uRLZ1pTRGAju"
      }
    },
    {
      "cell_type": "code",
      "source": [
        "\n",
        "import pandas as pd\n",
        "import numpy as np\n",
        "\n",
        "data['close_open_relation'] = np.where(data['close'] > data['open'], 'Mayor a open',\n",
        "                                     np.where(data['close'] == data['open'], 'Igual a open', 'Menor a open'))\n",
        "\n",
        "contingency_table_close_open = pd.crosstab(index=data['close_open_relation'], columns='Count', margins=True)\n",
        "\n",
        "print(contingency_table_close_open)\n"
      ],
      "metadata": {
        "colab": {
          "base_uri": "https://localhost:8080/"
        },
        "id": "Q4Spk_4R0wyS",
        "outputId": "cc2e2625-366d-4029-bf28-2a0f38f2ea73"
      },
      "execution_count": null,
      "outputs": [
        {
          "output_type": "stream",
          "name": "stdout",
          "text": [
            "col_0                 Count     All\n",
            "close_open_relation                \n",
            "Igual a open           7882    7882\n",
            "Mayor a open         436882  436882\n",
            "Menor a open         406500  406500\n",
            "All                  851264  851264\n"
          ]
        }
      ]
    },
    {
      "cell_type": "markdown",
      "source": [
        "Crea una tabla de contingencia que compare cuántos días el precio de apertura fue mayor o igual a $155 y al mismo tiempo el precio de cierre ajustado fue mayor o menor a $155.\n",
        "\n",
        "Contexto de negocio: Esto permite identificar patrones donde el precio de apertura y el precio de cierre ajustado cruzan umbrales críticos, lo que es útil para ajustes en las estrategias de compra/venta."
      ],
      "metadata": {
        "id": "2U-4wGeQGEOE"
      }
    },
    {
      "cell_type": "code",
      "source": [
        "\n",
        "data['open_above_155'] = data['open'] >= 155\n",
        "data['adj_close_above_155'] = data['close'] >= 155\n",
        "\n",
        "contingency_table = pd.crosstab(data['open_above_155'], data['adj_close_above_155'], rownames=['Open >= 155'], colnames=['Adj Close >= 155'])\n",
        "\n",
        "print(contingency_table)\n"
      ],
      "metadata": {
        "id": "eIYEVTprGGv3",
        "colab": {
          "base_uri": "https://localhost:8080/"
        },
        "outputId": "f849ce00-0668-49e0-a99c-78079720619b"
      },
      "execution_count": null,
      "outputs": [
        {
          "output_type": "stream",
          "name": "stdout",
          "text": [
            "Adj Close >= 155   False  True \n",
            "Open >= 155                    \n",
            "False             800422    539\n",
            "True                 489  49814\n"
          ]
        }
      ]
    },
    {
      "cell_type": "markdown",
      "source": [
        "Preguntas de Melts (Aplicadas a Negocios)\n",
        "Transforma las columnas de precios (Open, Close, High, Low) en una única columna llamada Precio, manteniendo la fecha (Date) y el tipo de acción (Stock).\n",
        "\n",
        "Contexto de negocio: Este formato largo es ideal para realizar visualizaciones comparativas de diferentes precios de la acción a lo largo del tiempo."
      ],
      "metadata": {
        "id": "O74ohdTbGHAt"
      }
    },
    {
      "cell_type": "code",
      "source": [
        "\n",
        "import pandas as pd\n",
        "\n",
        "melted_data = pd.melt(data, id_vars=['date', 'symbol'], value_vars=['open', 'close', 'high', 'low'], var_name='Price_Type', value_name='Price')\n",
        "\n",
        "print(melted_data)\n"
      ],
      "metadata": {
        "id": "gDbe8j-uGKlX",
        "colab": {
          "base_uri": "https://localhost:8080/"
        },
        "outputId": "28bd320b-ba6c-4e40-df2a-732668800523"
      },
      "execution_count": null,
      "outputs": [
        {
          "output_type": "stream",
          "name": "stdout",
          "text": [
            "              date symbol Price_Type       Price\n",
            "0       2016-01-05   WLTW       open  123.430000\n",
            "1       2016-01-06   WLTW       open  125.239998\n",
            "2       2016-01-07   WLTW       open  116.379997\n",
            "3       2016-01-08   WLTW       open  115.480003\n",
            "4       2016-01-11   WLTW       open  117.010002\n",
            "...            ...    ...        ...         ...\n",
            "3405051        NaT    ZBH        low  102.849998\n",
            "3405052        NaT   ZION        low   42.689999\n",
            "3405053        NaT    ZTS        low   53.270000\n",
            "3405054 2016-12-30    AIV        low   44.410000\n",
            "3405055 2016-12-30    FTV        low   53.389999\n",
            "\n",
            "[3405056 rows x 4 columns]\n"
          ]
        }
      ]
    },
    {
      "cell_type": "markdown",
      "source": [
        "Convierte todas las columnas del dataset, excepto Date y Stock, en un formato largo usando melt.\n",
        "\n",
        "Contexto de negocio: Tener todas las variables en un formato largo es útil para generar reportes dinámicos que comparen diferentes tipos de datos (precios, volumen, etc.)."
      ],
      "metadata": {
        "id": "jUE9CvxMGKQA"
      }
    },
    {
      "cell_type": "code",
      "source": [
        "\n",
        "import pandas as pd\n",
        "import numpy as np\n",
        "\n",
        "melted_data = pd.melt(data, id_vars=['date', 'symbol'], var_name='variable', value_name='value')\n",
        "\n",
        "print(melted_data)\n"
      ],
      "metadata": {
        "id": "qloWM0gpGNNm",
        "colab": {
          "base_uri": "https://localhost:8080/"
        },
        "outputId": "7bbfd5e7-c451-4e88-8763-5098047be4a1"
      },
      "execution_count": null,
      "outputs": [
        {
          "output_type": "stream",
          "name": "stdout",
          "text": [
            "               date symbol             variable       value\n",
            "0        2016-01-05   WLTW                 open      123.43\n",
            "1        2016-01-06   WLTW                 open  125.239998\n",
            "2        2016-01-07   WLTW                 open  116.379997\n",
            "3        2016-01-08   WLTW                 open  115.480003\n",
            "4        2016-01-11   WLTW                 open  117.010002\n",
            "...             ...    ...                  ...         ...\n",
            "11917691        NaT    ZBH  adj_close_above_155       False\n",
            "11917692        NaT   ZION  adj_close_above_155       False\n",
            "11917693        NaT    ZTS  adj_close_above_155       False\n",
            "11917694 2016-12-30    AIV  adj_close_above_155       False\n",
            "11917695 2016-12-30    FTV  adj_close_above_155       False\n",
            "\n",
            "[11917696 rows x 4 columns]\n"
          ]
        }
      ]
    },
    {
      "cell_type": "markdown",
      "source": [
        "Usa melt para convertir los precios (Open, Close, High, Low) y el volumen (Volume) en una sola columna de valor. Luego, agrupa los datos por tipo de precio y acción para calcular el promedio de cada tipo.\n",
        "\n",
        "Contexto de negocio: Este análisis permite comparar el comportamiento de diferentes precios y el volumen en un solo análisis, lo cual es útil para entender tendencias generales de la acción."
      ],
      "metadata": {
        "id": "tRKkXY7ZGNcc"
      }
    },
    {
      "cell_type": "code",
      "source": [
        "\n",
        "import pandas as pd\n",
        "import numpy as np\n",
        "\n",
        "\n",
        "melted_data = pd.melt(data, id_vars=['date', 'symbol'], value_vars=['open', 'close', 'high', 'low', 'volume'],\n",
        "                     var_name='Price_Type', value_name='Value')\n",
        "\n",
        "average_by_type_symbol = melted_data.groupby(['Price_Type', 'symbol'])['Value'].mean()\n",
        "\n",
        "print(average_by_type_symbol)\n"
      ],
      "metadata": {
        "id": "yO2YZpm8GQDW",
        "colab": {
          "base_uri": "https://localhost:8080/"
        },
        "outputId": "bd78ff75-a8b4-4b47-dcfa-ecfe35ab2fb1"
      },
      "execution_count": null,
      "outputs": [
        {
          "output_type": "stream",
          "name": "stdout",
          "text": [
            "Price_Type  symbol\n",
            "close       A         4.253944e+01\n",
            "            AAL       2.387377e+01\n",
            "            AAP       1.037696e+02\n",
            "            AAPL      3.129271e+02\n",
            "            ABBV      5.547364e+01\n",
            "                          ...     \n",
            "volume      YHOO      1.996907e+07\n",
            "            YUM       5.163684e+06\n",
            "            ZBH       1.509946e+06\n",
            "            ZION      3.227187e+06\n",
            "            ZTS       4.020115e+06\n",
            "Name: Value, Length: 2505, dtype: float64\n"
          ]
        }
      ]
    },
    {
      "cell_type": "markdown",
      "source": [
        "Realiza una transformación melt para convertir los precios en una columna y agrúpalos por día para calcular el precio promedio diario de la acción.\n",
        "\n",
        "Contexto de negocio: Esto proporciona una visión agregada del comportamiento promedio de los precios diarios de la acción."
      ],
      "metadata": {
        "id": "8GrWsiq5GQQ4"
      }
    },
    {
      "cell_type": "code",
      "source": [
        "\n",
        "import pandas as pd\n",
        "\n",
        "\n",
        "melted_data = pd.melt(data, id_vars=['date'], value_vars=['open', 'close', 'high', 'low'],\n",
        "                     var_name='Price_Type', value_name='Price')\n",
        "\n",
        "average_daily_price = melted_data.groupby('date')['Price'].mean()\n",
        "\n",
        "print(average_daily_price)\n"
      ],
      "metadata": {
        "id": "57tn7YZlGUjH",
        "colab": {
          "base_uri": "https://localhost:8080/"
        },
        "outputId": "24b6e511-e745-481a-8617-19d5fa225345"
      },
      "execution_count": null,
      "outputs": [
        {
          "output_type": "stream",
          "name": "stdout",
          "text": [
            "date\n",
            "2010-01-04    16.067500\n",
            "2010-01-05    16.172500\n",
            "2010-01-06    16.565000\n",
            "2010-01-07    16.910000\n",
            "2010-01-08    16.942500\n",
            "                ...    \n",
            "2016-12-23    74.248333\n",
            "2016-12-27    74.510834\n",
            "2016-12-28    73.871667\n",
            "2016-12-29    73.597499\n",
            "2016-12-30    73.808333\n",
            "Name: Price, Length: 1762, dtype: float64\n"
          ]
        }
      ]
    }
  ]
}